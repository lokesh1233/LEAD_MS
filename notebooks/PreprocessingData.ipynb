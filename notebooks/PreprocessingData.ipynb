{
 "cells": [
  {
   "cell_type": "code",
   "execution_count": 344,
   "metadata": {},
   "outputs": [],
   "source": [
    "import warnings\n",
    "warnings.filterwarnings(\"ignore\", category=FutureWarning)\n",
    "\n",
    "import numpy as np\n",
    "import pandas as pd\n",
    "import matplotlib.pyplot as plt\n",
    "\n",
    "%matplotlib inline\n",
    "\n",
    "from sklearn.model_selection import train_test_split\n",
    "from sklearn.linear_model import LogisticRegression\n",
    "from sklearn.metrics import accuracy_score\n",
    "\n",
    "from sklearn.preprocessing import LabelEncoder\n",
    "enc = LabelEncoder()\n",
    "\n",
    "\n",
    "#from subprocess import check_output\n",
    "#print(check_output([\"ls\", \"../input\"]).decode(\"utf8\"))\n"
   ]
  },
  {
   "cell_type": "markdown",
   "metadata": {},
   "source": [
    "## Data loading into pandas"
   ]
  },
  {
   "cell_type": "code",
   "execution_count": 345,
   "metadata": {},
   "outputs": [],
   "source": [
    "# campaign = pd.read_csv(\"../data/raw/campaign_master.csv\")\n",
    "# marketing = pd.read_csv(\"../data/raw/marketing_plan_master.csv\")\n",
    "prospect = pd.read_csv(\"../data/raw/prospect_master.csv\")\n",
    "lead = pd.read_csv(\"../data/raw/lead_master.csv\")\n",
    "\n",
    "#df_products = pd.merge(data, target, left_index=True, right_index=True, how='outer')"
   ]
  },
  {
   "cell_type": "code",
   "execution_count": 346,
   "metadata": {},
   "outputs": [],
   "source": [
    "## columns to use\n",
    "cols_to_use = [\"prospect_id\"]\n",
    "for col in prospect.columns :\n",
    "    if col not in lead:\n",
    "        cols_to_use.append(col)\n",
    "# print(cols_to_use)\n"
   ]
  },
  {
   "cell_type": "markdown",
   "metadata": {},
   "source": [
    "### merge data"
   ]
  },
  {
   "cell_type": "code",
   "execution_count": 347,
   "metadata": {},
   "outputs": [],
   "source": [
    "#cols_to_use = lead.columns - prospect.columns\n",
    "\n",
    "# cam_mas = campaign.merge(marketing, left_on='marketing_plan_id', right_on='id', how='outer')\n",
    "lead_Prospect_mast = lead.merge(prospect[cols_to_use], left_on='prospect_id', right_on='prospect_id', how='left')\n",
    "# lead_Total_master = lead_Prospect_mas.merge(cam_mas, left_on='prospect_id', right_on='prospect_id', how='outer')"
   ]
  },
  {
   "cell_type": "code",
   "execution_count": 348,
   "metadata": {},
   "outputs": [
    {
     "data": {
      "text/plain": [
       "226"
      ]
     },
     "execution_count": 348,
     "metadata": {},
     "output_type": "execute_result"
    }
   ],
   "source": [
    "#cols_to_use = lead.columns - prospect.columns\n",
    "len(lead_Prospect_mast.columns)"
   ]
  },
  {
   "cell_type": "markdown",
   "metadata": {},
   "source": [
    "\n",
    "### overall columns in table"
   ]
  },
  {
   "cell_type": "code",
   "execution_count": 349,
   "metadata": {},
   "outputs": [],
   "source": [
    "#len(lead_Prospect_mast.columns)\n",
    "\n",
    "# print(lead_Prospect_mast.columns[0:100])\n",
    "# print(lead_Prospect_mast.columns[100:200])\n",
    "# print(lead_Prospect_mast.columns[200:])"
   ]
  },
  {
   "cell_type": "markdown",
   "metadata": {},
   "source": [
    "### prefered columns"
   ]
  },
  {
   "cell_type": "code",
   "execution_count": 350,
   "metadata": {},
   "outputs": [],
   "source": [
    "# lead_Prospect_mast[['isnewleadprimary_x', 'position_role_id_x', 'camp_name_x', 'camp_id_x', 'reason_x', 'lastcalldate',\n",
    "#        'cool_off_flag_x', 'cool_off_timestamp_x', 'is_member_x', 'interested_x', 'dnc_flag_x', 'is_active_lead_primary_x', 'hfrp_id_x',\n",
    "#        'type_of_lead_x', 'handheld_x', 'qualified_x', 'qualified_at', 'qma_flag', 'sms_confirmed_x', 'refer_id', 'age_group_x',\n",
    "#        'offer', 'active_lead_id_x', 'web_data_source', 'city_x', 'lead_stage', 'pullpushflag_x', 'status_x', 'lead_score', 'lead_status_x',\n",
    "#        'lead_call_status_x', 'is_active_x', 'reason_for_interested', 'reason_for_followup', 'reason_for_qualified',\n",
    "#        'callback_date', 'app_date', 'venue_list', 'app_address', 'app_location',  'no_of_calls', 'no_of_call_attempts',  'marital_status_x',\n",
    "#        'car_model', 'car_make', 'campaign_sub_type', 'price_bracket_x', 'occupation_x', 'mobile_device', 'time_spent', 'os', 'concatenated_string',\n",
    "#        'voucher_no', 'coupon_status', 'coupon_gen_date', 'voucher_valid_upto', 'car_make1_x', 'car_model1_x', 'car_make2_x', 'car_model2_x', 'type',\n",
    "#        'team', 'calldisabled', 'opc_level_info', 'data_collection_date', 'preferredTime', 'prospectcity', 'prospectcountry', 'cardtype',\n",
    "#        'frequentflyer', 'doyouownacar', 'daysholidaysinayr', 'adv_holiday_planned']].head()\n",
    "\n",
    "# lead_Prospect_mast[['datasource', 'source', 'mobiledevice', 'concatstring', 'lead_control_location', 'excel_type', 'is_web', 'is_excel',\n",
    "#        'is_opportunity_x', 'opportunity_id_x', 'ib_lead_id', 'preferred_communication', 'preferred_day', 'preferred_time', 'device',\n",
    "#        'response_coupon_no', 'web_accessed_from', 'guest_member_flag', 'no_of_times_leads_created', 'HFRP_referred_by', 'reason_for_rejection',\n",
    "#        'reason_for_inactivation', 'cool_off_end_date', 'hep_average_rating', 'fresh_lead', 'hep_source_name', 'reason_rej_inactive_x',\n",
    "#        'is_segment_x', 'reason_id_x', 'created_at_x', 'created_by', 'updated_by', 'updated_at_x', 'is_customer','is_active_y', 'country',\n",
    "#        'state', 'city_y', 'lead_status_y', 'lead_call_status_y', 'cool_off_flag_y', 'interested_y', 'is_member_y', 'dnc_flag_y', 'dnc_source', 'dne_flg',\n",
    "#        'dns_flag', 'designation', 'monthly_income', 'isnewleadprimary_y', 'is_active_lead_primary_y', 'handheld_y', 'sms_confirmed_y', 'qualified_y', 'age_group_y', 'dob',\n",
    "#        'education', 'occupation_y', 'work_organization', 'car_make1_y', 'car_model1_y', 'car_make2_y', 'car_model2_y', 'oven',\n",
    "#        'frequent_flyer_status', 'card_type', 'child2_activity_interest', 'child2_school', 'child2_edu']].head()\n",
    "\n",
    "# lead_Prospect_mast[['spouse_education', 'family_size', 'marital_status_y', 'comments', 'price_bracket2', 'price_bracket_y',\n",
    "#        'spouse_occupation', 'no_of_childrens', 'child1_edu', 'child1_school', 'child1_activity_interest', 'last_holiday_destination1',\n",
    "#        'last_holiday_destination2', 'holiday_expectation', 'prefere_holiday_theam1', 'prefere_holiday_theam2', 'prefere_holiday_theam3',\n",
    "#        'prefere_holiday_time', 'days_holiday_last_year', 'last_holiday_at', 'prefere_holiday_activity1', 'prefere_holiday_activity2',\n",
    "#        'prefere_holiday_activity3', 'dream_holidays_destination', 'spouse_dream_holidays_destination', 'prefer_travel_mode',\n",
    "#        'prefer_accomodation', 'own_any_holiday_product', 'no_of_adult_travellers', 'no_of_child_travellers',\n",
    "#        'spent_on_accomodation', 'last_holiday_accomodation_type', 'lcd_led', 'double_door_fridge', 'tablet', 'smart_phone', 'laptop', 'home_theatre',\n",
    "#        'luxury_brand_own', 'auto_washing_machine', 'play_station', 'club_membership', 'multi_tvs', 'multi_cars', 'multi_pc_laptop',\n",
    "#        'own_car', 'status_y', 'pullpushflag_y', 'hfrp_id_y', 'prospect_control_location', 'gender', 'scalar',\n",
    "#         'is_opportunity_y', 'position_role_id_y', 'type_of_lead_y', 'reason_rej_inactive_y', 'reason_id_y',\n",
    "#        'created_at_y', 'updated_at_y', 'is_segment_y', 'last_call_date_y', 'spouse_dob', 'anniversary_date'\n",
    "#        ]].head()"
   ]
  },
  {
   "cell_type": "markdown",
   "metadata": {},
   "source": [
    "### columns on the present data after (missing, IDness, stability and correlation)"
   ]
  },
  {
   "cell_type": "code",
   "execution_count": 351,
   "metadata": {},
   "outputs": [
    {
     "data": {
      "text/html": [
       "<div>\n",
       "<style scoped>\n",
       "    .dataframe tbody tr th:only-of-type {\n",
       "        vertical-align: middle;\n",
       "    }\n",
       "\n",
       "    .dataframe tbody tr th {\n",
       "        vertical-align: top;\n",
       "    }\n",
       "\n",
       "    .dataframe thead th {\n",
       "        text-align: right;\n",
       "    }\n",
       "</style>\n",
       "<table border=\"1\" class=\"dataframe\">\n",
       "  <thead>\n",
       "    <tr style=\"text-align: right;\">\n",
       "      <th></th>\n",
       "      <th>reason_id</th>\n",
       "      <th>reason_rej_inactive</th>\n",
       "      <th>is_excel</th>\n",
       "      <th>excel_type</th>\n",
       "      <th>datasource</th>\n",
       "      <th>prospectcity</th>\n",
       "      <th>car_model1</th>\n",
       "      <th>car_make1</th>\n",
       "      <th>occupation</th>\n",
       "      <th>marital_status</th>\n",
       "      <th>...</th>\n",
       "      <th>status</th>\n",
       "      <th>pullpushflag</th>\n",
       "      <th>city</th>\n",
       "      <th>age_group</th>\n",
       "      <th>interested</th>\n",
       "      <th>reason</th>\n",
       "      <th>position_role_id</th>\n",
       "      <th>prospect_control_location</th>\n",
       "      <th>lead_stage</th>\n",
       "      <th>is_customer</th>\n",
       "    </tr>\n",
       "  </thead>\n",
       "  <tbody>\n",
       "    <tr>\n",
       "      <th>0</th>\n",
       "      <td>NaN</td>\n",
       "      <td>NaN</td>\n",
       "      <td>4.0</td>\n",
       "      <td>4</td>\n",
       "      <td>NaN</td>\n",
       "      <td>237.0</td>\n",
       "      <td>145.0</td>\n",
       "      <td>20.0</td>\n",
       "      <td>7.0</td>\n",
       "      <td>2.0</td>\n",
       "      <td>...</td>\n",
       "      <td>Active</td>\n",
       "      <td>pull</td>\n",
       "      <td>13.0</td>\n",
       "      <td>3.0</td>\n",
       "      <td>0</td>\n",
       "      <td>NaN</td>\n",
       "      <td>147.0</td>\n",
       "      <td>13.0</td>\n",
       "      <td>NaN</td>\n",
       "      <td>Y</td>\n",
       "    </tr>\n",
       "    <tr>\n",
       "      <th>1</th>\n",
       "      <td>NaN</td>\n",
       "      <td>NaN</td>\n",
       "      <td>NaN</td>\n",
       "      <td>0</td>\n",
       "      <td>Web Form</td>\n",
       "      <td>358.0</td>\n",
       "      <td>NaN</td>\n",
       "      <td>0.0</td>\n",
       "      <td>0.0</td>\n",
       "      <td>0.0</td>\n",
       "      <td>...</td>\n",
       "      <td>Active</td>\n",
       "      <td>pull</td>\n",
       "      <td>358.0</td>\n",
       "      <td>7.0</td>\n",
       "      <td>N</td>\n",
       "      <td>NaN</td>\n",
       "      <td>NaN</td>\n",
       "      <td>NaN</td>\n",
       "      <td>No Stage</td>\n",
       "      <td>Y</td>\n",
       "    </tr>\n",
       "    <tr>\n",
       "      <th>2</th>\n",
       "      <td>3.0</td>\n",
       "      <td>I</td>\n",
       "      <td>NaN</td>\n",
       "      <td>0</td>\n",
       "      <td>Web Form</td>\n",
       "      <td>292.0</td>\n",
       "      <td>NaN</td>\n",
       "      <td>0.0</td>\n",
       "      <td>0.0</td>\n",
       "      <td>0.0</td>\n",
       "      <td>...</td>\n",
       "      <td>Active</td>\n",
       "      <td>pull</td>\n",
       "      <td>292.0</td>\n",
       "      <td>6.0</td>\n",
       "      <td>N</td>\n",
       "      <td>3.0</td>\n",
       "      <td>NaN</td>\n",
       "      <td>NaN</td>\n",
       "      <td>No Stage</td>\n",
       "      <td>Y</td>\n",
       "    </tr>\n",
       "    <tr>\n",
       "      <th>3</th>\n",
       "      <td>7.0</td>\n",
       "      <td>R</td>\n",
       "      <td>NaN</td>\n",
       "      <td>0</td>\n",
       "      <td>NaN</td>\n",
       "      <td>NaN</td>\n",
       "      <td>NaN</td>\n",
       "      <td>NaN</td>\n",
       "      <td>5.0</td>\n",
       "      <td>1.0</td>\n",
       "      <td>...</td>\n",
       "      <td>Active</td>\n",
       "      <td>push</td>\n",
       "      <td>NaN</td>\n",
       "      <td>2.0</td>\n",
       "      <td>Y</td>\n",
       "      <td>7.0</td>\n",
       "      <td>NaN</td>\n",
       "      <td>NaN</td>\n",
       "      <td>NaN</td>\n",
       "      <td>Y</td>\n",
       "    </tr>\n",
       "    <tr>\n",
       "      <th>4</th>\n",
       "      <td>NaN</td>\n",
       "      <td>NaN</td>\n",
       "      <td>NaN</td>\n",
       "      <td>0</td>\n",
       "      <td>NaN</td>\n",
       "      <td>NaN</td>\n",
       "      <td>NaN</td>\n",
       "      <td>NaN</td>\n",
       "      <td>4.0</td>\n",
       "      <td>2.0</td>\n",
       "      <td>...</td>\n",
       "      <td>Active</td>\n",
       "      <td>pull</td>\n",
       "      <td>8.0</td>\n",
       "      <td>1.0</td>\n",
       "      <td>Y</td>\n",
       "      <td>NaN</td>\n",
       "      <td>NaN</td>\n",
       "      <td>NaN</td>\n",
       "      <td>Hot</td>\n",
       "      <td>Y</td>\n",
       "    </tr>\n",
       "  </tbody>\n",
       "</table>\n",
       "<p>5 rows × 23 columns</p>\n",
       "</div>"
      ],
      "text/plain": [
       "   reason_id reason_rej_inactive  is_excel  excel_type datasource  \\\n",
       "0        NaN                 NaN       4.0           4        NaN   \n",
       "1        NaN                 NaN       NaN           0   Web Form   \n",
       "2        3.0                   I       NaN           0   Web Form   \n",
       "3        7.0                   R       NaN           0        NaN   \n",
       "4        NaN                 NaN       NaN           0        NaN   \n",
       "\n",
       "   prospectcity  car_model1  car_make1  occupation  marital_status  \\\n",
       "0         237.0       145.0       20.0         7.0             2.0   \n",
       "1         358.0         NaN        0.0         0.0             0.0   \n",
       "2         292.0         NaN        0.0         0.0             0.0   \n",
       "3           NaN         NaN        NaN         5.0             1.0   \n",
       "4           NaN         NaN        NaN         4.0             2.0   \n",
       "\n",
       "      ...       status pullpushflag   city age_group interested  reason  \\\n",
       "0     ...       Active         pull   13.0       3.0          0     NaN   \n",
       "1     ...       Active         pull  358.0       7.0          N     NaN   \n",
       "2     ...       Active         pull  292.0       6.0          N     3.0   \n",
       "3     ...       Active         push    NaN       2.0          Y     7.0   \n",
       "4     ...       Active         pull    8.0       1.0          Y     NaN   \n",
       "\n",
       "   position_role_id prospect_control_location  lead_stage  is_customer  \n",
       "0             147.0                      13.0         NaN            Y  \n",
       "1               NaN                       NaN    No Stage            Y  \n",
       "2               NaN                       NaN    No Stage            Y  \n",
       "3               NaN                       NaN         NaN            Y  \n",
       "4               NaN                       NaN         Hot            Y  \n",
       "\n",
       "[5 rows x 23 columns]"
      ]
     },
     "execution_count": 351,
     "metadata": {},
     "output_type": "execute_result"
    }
   ],
   "source": [
    "lead_Prospect_mast[[\"reason_id\", \"reason_rej_inactive\", \"is_excel\", \"excel_type\", \"datasource\", \"prospectcity\", \"car_model1\", \"car_make1\", \"occupation\",\n",
    "\"marital_status\", \"venue_list\", \"is_active\", \"lead_score\", \"status\", \"pullpushflag\", \"city\", \"age_group\", \"interested\", \"reason\", \"position_role_id\",\n",
    "\"prospect_control_location\", \"lead_stage\", \"is_customer\"]].head()"
   ]
  },
  {
   "cell_type": "code",
   "execution_count": 352,
   "metadata": {},
   "outputs": [],
   "source": [
    "### need to check columns\n",
    "## scalar, gender, own_car"
   ]
  },
  {
   "cell_type": "markdown",
   "metadata": {},
   "source": [
    "### coulmn validation and types"
   ]
  },
  {
   "cell_type": "code",
   "execution_count": 353,
   "metadata": {},
   "outputs": [],
   "source": [
    "# lead_Prospect_mast[[\"reason_id\", \"reason_rej_inactive\", \"is_excel\", \"excel_type\", \"datasource\", \"prospectcity\", \"car_model1\", \"car_make1\", \"occupation\",\n",
    "# \"marital_status\", \"venue_list\", \"is_active\", \"lead_score\", \"status\", \"pullpushflag\", \"city\", \"age_group\", \"interested\", \"reason\", \"position_role_id\",\n",
    "# \"prospect_control_location\", \"lead_stage\"]].info()\n",
    "\n",
    "## removing null values\n",
    "## [\"datasource\", \"prospectcity\"]  \n",
    "\n",
    "lead_transform = lead_Prospect_mast[[\"reason_id\", \"reason_rej_inactive\", \"is_excel\", \"excel_type\", \"car_model1\", \"car_make1\", \"occupation\",\n",
    "\"marital_status\", \"venue_list\", \"is_active\", \"lead_score\", \"status\", \"pullpushflag\", \"city\", \"age_group\", \"interested\", \"reason\", \"position_role_id\",\n",
    "\"prospect_control_location\", \"lead_stage\", \"is_customer\"]]"
   ]
  },
  {
   "cell_type": "code",
   "execution_count": 354,
   "metadata": {},
   "outputs": [],
   "source": [
    "lead_Prospect_mast[\"reason_id\"].fillna(6.0,  inplace=True)\n",
    "lead_Prospect_mast[\"reason_rej_inactive\"].fillna('R',  inplace=True)\n",
    "lead_Prospect_mast[\"is_excel\"].fillna(1.0, inplace=True)\n",
    "lead_Prospect_mast[\"car_model1\"].fillna(22.0, inplace=True)\n",
    "lead_Prospect_mast[\"car_make1\"].fillna(26.0, inplace=True)\n",
    "lead_Prospect_mast[\"occupation\"].fillna(2.0, inplace=True)\n",
    "lead_Prospect_mast[\"marital_status\"].fillna(2.0, inplace=True)\n",
    "lead_Prospect_mast[\"venue_list\"].fillna(0.0, inplace=True)\n",
    "lead_Prospect_mast[\"is_active\"].fillna('N', inplace=True)\n",
    "lead_Prospect_mast[\"lead_score\"].fillna(0.02173, inplace=True)\n",
    "lead_Prospect_mast[\"city\"].fillna(8.0, inplace=True)\n",
    "lead_Prospect_mast[\"age_group\"].fillna(3.0, inplace=True)\n",
    "lead_Prospect_mast[\"reason\"].fillna(6.0, inplace=True)\n",
    "lead_Prospect_mast[\"position_role_id\"].fillna(126.0, inplace=True)\n",
    "lead_Prospect_mast[\"prospect_control_location\"].fillna(8.0, inplace=True)\n",
    "lead_Prospect_mast[\"lead_stage\"].fillna('Hot',inplace=True)\n"
   ]
  },
  {
   "cell_type": "code",
   "execution_count": 355,
   "metadata": {
    "scrolled": true
   },
   "outputs": [
    {
     "name": "stdout",
     "output_type": "stream",
     "text": [
      "<class 'pandas.core.frame.DataFrame'>\n",
      "Int64Index: 243 entries, 0 to 242\n",
      "Data columns (total 21 columns):\n",
      "reason_id                    143 non-null float64\n",
      "reason_rej_inactive          143 non-null object\n",
      "is_excel                     204 non-null float64\n",
      "excel_type                   243 non-null int64\n",
      "car_model1                   204 non-null float64\n",
      "car_make1                    227 non-null float64\n",
      "occupation                   239 non-null float64\n",
      "marital_status               241 non-null float64\n",
      "venue_list                   216 non-null float64\n",
      "is_active                    242 non-null object\n",
      "lead_score                   242 non-null float64\n",
      "status                       243 non-null object\n",
      "pullpushflag                 243 non-null object\n",
      "city                         239 non-null float64\n",
      "age_group                    237 non-null float64\n",
      "interested                   243 non-null object\n",
      "reason                       143 non-null float64\n",
      "position_role_id             226 non-null float64\n",
      "prospect_control_location    204 non-null float64\n",
      "lead_stage                   238 non-null object\n",
      "is_customer                  243 non-null object\n",
      "dtypes: float64(13), int64(1), object(7)\n",
      "memory usage: 41.8+ KB\n"
     ]
    }
   ],
   "source": [
    "lead_transform.info()"
   ]
  },
  {
   "cell_type": "code",
   "execution_count": 356,
   "metadata": {},
   "outputs": [
    {
     "data": {
      "text/plain": [
       "0    204\n",
       "N     37\n",
       "Y      2\n",
       "Name: interested, dtype: int64"
      ]
     },
     "execution_count": 356,
     "metadata": {},
     "output_type": "execute_result"
    }
   ],
   "source": [
    "lead_transform['interested'].value_counts()"
   ]
  },
  {
   "cell_type": "code",
   "execution_count": 367,
   "metadata": {},
   "outputs": [
    {
     "name": "stderr",
     "output_type": "stream",
     "text": [
      "c:\\users\\lokesh\\appdata\\local\\programs\\python\\python36\\lib\\site-packages\\ipykernel_launcher.py:3: SettingWithCopyWarning: \n",
      "A value is trying to be set on a copy of a slice from a DataFrame.\n",
      "Try using .loc[row_indexer,col_indexer] = value instead\n",
      "\n",
      "See the caveats in the documentation: http://pandas.pydata.org/pandas-docs/stable/indexing.html#indexing-view-versus-copy\n",
      "  This is separate from the ipykernel package so we can avoid doing imports until\n",
      "c:\\users\\lokesh\\appdata\\local\\programs\\python\\python36\\lib\\site-packages\\ipykernel_launcher.py:4: SettingWithCopyWarning: \n",
      "A value is trying to be set on a copy of a slice from a DataFrame.\n",
      "Try using .loc[row_indexer,col_indexer] = value instead\n",
      "\n",
      "See the caveats in the documentation: http://pandas.pydata.org/pandas-docs/stable/indexing.html#indexing-view-versus-copy\n",
      "  after removing the cwd from sys.path.\n",
      "c:\\users\\lokesh\\appdata\\local\\programs\\python\\python36\\lib\\site-packages\\ipykernel_launcher.py:5: SettingWithCopyWarning: \n",
      "A value is trying to be set on a copy of a slice from a DataFrame.\n",
      "Try using .loc[row_indexer,col_indexer] = value instead\n",
      "\n",
      "See the caveats in the documentation: http://pandas.pydata.org/pandas-docs/stable/indexing.html#indexing-view-versus-copy\n",
      "  \"\"\"\n",
      "c:\\users\\lokesh\\appdata\\local\\programs\\python\\python36\\lib\\site-packages\\ipykernel_launcher.py:6: SettingWithCopyWarning: \n",
      "A value is trying to be set on a copy of a slice from a DataFrame.\n",
      "Try using .loc[row_indexer,col_indexer] = value instead\n",
      "\n",
      "See the caveats in the documentation: http://pandas.pydata.org/pandas-docs/stable/indexing.html#indexing-view-versus-copy\n",
      "  \n",
      "c:\\users\\lokesh\\appdata\\local\\programs\\python\\python36\\lib\\site-packages\\ipykernel_launcher.py:7: SettingWithCopyWarning: \n",
      "A value is trying to be set on a copy of a slice from a DataFrame.\n",
      "Try using .loc[row_indexer,col_indexer] = value instead\n",
      "\n",
      "See the caveats in the documentation: http://pandas.pydata.org/pandas-docs/stable/indexing.html#indexing-view-versus-copy\n",
      "  import sys\n",
      "c:\\users\\lokesh\\appdata\\local\\programs\\python\\python36\\lib\\site-packages\\ipykernel_launcher.py:10: SettingWithCopyWarning: \n",
      "A value is trying to be set on a copy of a slice from a DataFrame.\n",
      "Try using .loc[row_indexer,col_indexer] = value instead\n",
      "\n",
      "See the caveats in the documentation: http://pandas.pydata.org/pandas-docs/stable/indexing.html#indexing-view-versus-copy\n",
      "  # Remove the CWD from sys.path while we load stuff.\n"
     ]
    }
   ],
   "source": [
    "#lead_transform['lead_stage_code'] = enc.fit_transform(lead_transform['lead_stage'])\n",
    "\n",
    "lead_transform['reason_rej_inactive'] = enc.fit_transform(lead_transform['reason_rej_inactive'].astype(str))\n",
    "lead_transform['is_active'] = enc.fit_transform(lead_transform['is_active'].astype(str))\n",
    "lead_transform['status'] = enc.fit_transform(lead_transform['status'].astype(str))\n",
    "lead_transform['pullpushflag'] = enc.fit_transform(lead_transform['pullpushflag'].astype(str))\n",
    "lead_transform['interested'] = enc.fit_transform(lead_transform['interested'].astype(str))\n",
    "\n",
    "## target variable\n",
    "lead_transform['is_customer'] = enc.fit_transform(lead_transform['is_customer'].astype(str))"
   ]
  },
  {
   "cell_type": "markdown",
   "metadata": {},
   "source": [
    "### one hot encoding with lead status"
   ]
  },
  {
   "cell_type": "code",
   "execution_count": 369,
   "metadata": {},
   "outputs": [
    {
     "name": "stderr",
     "output_type": "stream",
     "text": [
      "c:\\users\\lokesh\\appdata\\local\\programs\\python\\python36\\lib\\site-packages\\ipykernel_launcher.py:1: SettingWithCopyWarning: \n",
      "A value is trying to be set on a copy of a slice from a DataFrame.\n",
      "Try using .loc[row_indexer,col_indexer] = value instead\n",
      "\n",
      "See the caveats in the documentation: http://pandas.pydata.org/pandas-docs/stable/indexing.html#indexing-view-versus-copy\n",
      "  \"\"\"Entry point for launching an IPython kernel.\n"
     ]
    }
   ],
   "source": [
    "lead_transform['lead_stage_code'] = enc.fit_transform(lead_transform['lead_stage'].astype('str'))"
   ]
  },
  {
   "cell_type": "code",
   "execution_count": 370,
   "metadata": {},
   "outputs": [
    {
     "data": {
      "text/plain": [
       "1    153\n",
       "2     44\n",
       "3     30\n",
       "0     11\n",
       "4      5\n",
       "Name: lead_stage_code, dtype: int64"
      ]
     },
     "execution_count": 370,
     "metadata": {},
     "output_type": "execute_result"
    }
   ],
   "source": [
    "lead_transform['lead_stage_code'].value_counts()"
   ]
  },
  {
   "cell_type": "code",
   "execution_count": 315,
   "metadata": {},
   "outputs": [
    {
     "ename": "KeyError",
     "evalue": "'is_master'",
     "output_type": "error",
     "traceback": [
      "\u001b[1;31m---------------------------------------------------------------------------\u001b[0m",
      "\u001b[1;31mKeyError\u001b[0m                                  Traceback (most recent call last)",
      "\u001b[1;32mc:\\users\\lokesh\\appdata\\local\\programs\\python\\python36\\lib\\site-packages\\pandas\\core\\indexes\\base.py\u001b[0m in \u001b[0;36mget_loc\u001b[1;34m(self, key, method, tolerance)\u001b[0m\n\u001b[0;32m   3077\u001b[0m             \u001b[1;32mtry\u001b[0m\u001b[1;33m:\u001b[0m\u001b[1;33m\u001b[0m\u001b[1;33m\u001b[0m\u001b[0m\n\u001b[1;32m-> 3078\u001b[1;33m                 \u001b[1;32mreturn\u001b[0m \u001b[0mself\u001b[0m\u001b[1;33m.\u001b[0m\u001b[0m_engine\u001b[0m\u001b[1;33m.\u001b[0m\u001b[0mget_loc\u001b[0m\u001b[1;33m(\u001b[0m\u001b[0mkey\u001b[0m\u001b[1;33m)\u001b[0m\u001b[1;33m\u001b[0m\u001b[1;33m\u001b[0m\u001b[0m\n\u001b[0m\u001b[0;32m   3079\u001b[0m             \u001b[1;32mexcept\u001b[0m \u001b[0mKeyError\u001b[0m\u001b[1;33m:\u001b[0m\u001b[1;33m\u001b[0m\u001b[1;33m\u001b[0m\u001b[0m\n",
      "\u001b[1;32mpandas\\_libs\\index.pyx\u001b[0m in \u001b[0;36mpandas._libs.index.IndexEngine.get_loc\u001b[1;34m()\u001b[0m\n",
      "\u001b[1;32mpandas\\_libs\\index.pyx\u001b[0m in \u001b[0;36mpandas._libs.index.IndexEngine.get_loc\u001b[1;34m()\u001b[0m\n",
      "\u001b[1;32mpandas\\_libs\\hashtable_class_helper.pxi\u001b[0m in \u001b[0;36mpandas._libs.hashtable.PyObjectHashTable.get_item\u001b[1;34m()\u001b[0m\n",
      "\u001b[1;32mpandas\\_libs\\hashtable_class_helper.pxi\u001b[0m in \u001b[0;36mpandas._libs.hashtable.PyObjectHashTable.get_item\u001b[1;34m()\u001b[0m\n",
      "\u001b[1;31mKeyError\u001b[0m: 'is_master'",
      "\nDuring handling of the above exception, another exception occurred:\n",
      "\u001b[1;31mKeyError\u001b[0m                                  Traceback (most recent call last)",
      "\u001b[1;32m<ipython-input-315-cde85e2ea2e7>\u001b[0m in \u001b[0;36m<module>\u001b[1;34m\u001b[0m\n\u001b[1;32m----> 1\u001b[1;33m \u001b[0mlead\u001b[0m\u001b[1;33m[\u001b[0m\u001b[1;34m\"is_master\"\u001b[0m\u001b[1;33m]\u001b[0m\u001b[1;33m\u001b[0m\u001b[1;33m\u001b[0m\u001b[0m\n\u001b[0m",
      "\u001b[1;32mc:\\users\\lokesh\\appdata\\local\\programs\\python\\python36\\lib\\site-packages\\pandas\\core\\frame.py\u001b[0m in \u001b[0;36m__getitem__\u001b[1;34m(self, key)\u001b[0m\n\u001b[0;32m   2686\u001b[0m             \u001b[1;32mreturn\u001b[0m \u001b[0mself\u001b[0m\u001b[1;33m.\u001b[0m\u001b[0m_getitem_multilevel\u001b[0m\u001b[1;33m(\u001b[0m\u001b[0mkey\u001b[0m\u001b[1;33m)\u001b[0m\u001b[1;33m\u001b[0m\u001b[1;33m\u001b[0m\u001b[0m\n\u001b[0;32m   2687\u001b[0m         \u001b[1;32melse\u001b[0m\u001b[1;33m:\u001b[0m\u001b[1;33m\u001b[0m\u001b[1;33m\u001b[0m\u001b[0m\n\u001b[1;32m-> 2688\u001b[1;33m             \u001b[1;32mreturn\u001b[0m \u001b[0mself\u001b[0m\u001b[1;33m.\u001b[0m\u001b[0m_getitem_column\u001b[0m\u001b[1;33m(\u001b[0m\u001b[0mkey\u001b[0m\u001b[1;33m)\u001b[0m\u001b[1;33m\u001b[0m\u001b[1;33m\u001b[0m\u001b[0m\n\u001b[0m\u001b[0;32m   2689\u001b[0m \u001b[1;33m\u001b[0m\u001b[0m\n\u001b[0;32m   2690\u001b[0m     \u001b[1;32mdef\u001b[0m \u001b[0m_getitem_column\u001b[0m\u001b[1;33m(\u001b[0m\u001b[0mself\u001b[0m\u001b[1;33m,\u001b[0m \u001b[0mkey\u001b[0m\u001b[1;33m)\u001b[0m\u001b[1;33m:\u001b[0m\u001b[1;33m\u001b[0m\u001b[1;33m\u001b[0m\u001b[0m\n",
      "\u001b[1;32mc:\\users\\lokesh\\appdata\\local\\programs\\python\\python36\\lib\\site-packages\\pandas\\core\\frame.py\u001b[0m in \u001b[0;36m_getitem_column\u001b[1;34m(self, key)\u001b[0m\n\u001b[0;32m   2693\u001b[0m         \u001b[1;31m# get column\u001b[0m\u001b[1;33m\u001b[0m\u001b[1;33m\u001b[0m\u001b[1;33m\u001b[0m\u001b[0m\n\u001b[0;32m   2694\u001b[0m         \u001b[1;32mif\u001b[0m \u001b[0mself\u001b[0m\u001b[1;33m.\u001b[0m\u001b[0mcolumns\u001b[0m\u001b[1;33m.\u001b[0m\u001b[0mis_unique\u001b[0m\u001b[1;33m:\u001b[0m\u001b[1;33m\u001b[0m\u001b[1;33m\u001b[0m\u001b[0m\n\u001b[1;32m-> 2695\u001b[1;33m             \u001b[1;32mreturn\u001b[0m \u001b[0mself\u001b[0m\u001b[1;33m.\u001b[0m\u001b[0m_get_item_cache\u001b[0m\u001b[1;33m(\u001b[0m\u001b[0mkey\u001b[0m\u001b[1;33m)\u001b[0m\u001b[1;33m\u001b[0m\u001b[1;33m\u001b[0m\u001b[0m\n\u001b[0m\u001b[0;32m   2696\u001b[0m \u001b[1;33m\u001b[0m\u001b[0m\n\u001b[0;32m   2697\u001b[0m         \u001b[1;31m# duplicate columns & possible reduce dimensionality\u001b[0m\u001b[1;33m\u001b[0m\u001b[1;33m\u001b[0m\u001b[1;33m\u001b[0m\u001b[0m\n",
      "\u001b[1;32mc:\\users\\lokesh\\appdata\\local\\programs\\python\\python36\\lib\\site-packages\\pandas\\core\\generic.py\u001b[0m in \u001b[0;36m_get_item_cache\u001b[1;34m(self, item)\u001b[0m\n\u001b[0;32m   2487\u001b[0m         \u001b[0mres\u001b[0m \u001b[1;33m=\u001b[0m \u001b[0mcache\u001b[0m\u001b[1;33m.\u001b[0m\u001b[0mget\u001b[0m\u001b[1;33m(\u001b[0m\u001b[0mitem\u001b[0m\u001b[1;33m)\u001b[0m\u001b[1;33m\u001b[0m\u001b[1;33m\u001b[0m\u001b[0m\n\u001b[0;32m   2488\u001b[0m         \u001b[1;32mif\u001b[0m \u001b[0mres\u001b[0m \u001b[1;32mis\u001b[0m \u001b[1;32mNone\u001b[0m\u001b[1;33m:\u001b[0m\u001b[1;33m\u001b[0m\u001b[1;33m\u001b[0m\u001b[0m\n\u001b[1;32m-> 2489\u001b[1;33m             \u001b[0mvalues\u001b[0m \u001b[1;33m=\u001b[0m \u001b[0mself\u001b[0m\u001b[1;33m.\u001b[0m\u001b[0m_data\u001b[0m\u001b[1;33m.\u001b[0m\u001b[0mget\u001b[0m\u001b[1;33m(\u001b[0m\u001b[0mitem\u001b[0m\u001b[1;33m)\u001b[0m\u001b[1;33m\u001b[0m\u001b[1;33m\u001b[0m\u001b[0m\n\u001b[0m\u001b[0;32m   2490\u001b[0m             \u001b[0mres\u001b[0m \u001b[1;33m=\u001b[0m \u001b[0mself\u001b[0m\u001b[1;33m.\u001b[0m\u001b[0m_box_item_values\u001b[0m\u001b[1;33m(\u001b[0m\u001b[0mitem\u001b[0m\u001b[1;33m,\u001b[0m \u001b[0mvalues\u001b[0m\u001b[1;33m)\u001b[0m\u001b[1;33m\u001b[0m\u001b[1;33m\u001b[0m\u001b[0m\n\u001b[0;32m   2491\u001b[0m             \u001b[0mcache\u001b[0m\u001b[1;33m[\u001b[0m\u001b[0mitem\u001b[0m\u001b[1;33m]\u001b[0m \u001b[1;33m=\u001b[0m \u001b[0mres\u001b[0m\u001b[1;33m\u001b[0m\u001b[1;33m\u001b[0m\u001b[0m\n",
      "\u001b[1;32mc:\\users\\lokesh\\appdata\\local\\programs\\python\\python36\\lib\\site-packages\\pandas\\core\\internals.py\u001b[0m in \u001b[0;36mget\u001b[1;34m(self, item, fastpath)\u001b[0m\n\u001b[0;32m   4113\u001b[0m \u001b[1;33m\u001b[0m\u001b[0m\n\u001b[0;32m   4114\u001b[0m             \u001b[1;32mif\u001b[0m \u001b[1;32mnot\u001b[0m \u001b[0misna\u001b[0m\u001b[1;33m(\u001b[0m\u001b[0mitem\u001b[0m\u001b[1;33m)\u001b[0m\u001b[1;33m:\u001b[0m\u001b[1;33m\u001b[0m\u001b[1;33m\u001b[0m\u001b[0m\n\u001b[1;32m-> 4115\u001b[1;33m                 \u001b[0mloc\u001b[0m \u001b[1;33m=\u001b[0m \u001b[0mself\u001b[0m\u001b[1;33m.\u001b[0m\u001b[0mitems\u001b[0m\u001b[1;33m.\u001b[0m\u001b[0mget_loc\u001b[0m\u001b[1;33m(\u001b[0m\u001b[0mitem\u001b[0m\u001b[1;33m)\u001b[0m\u001b[1;33m\u001b[0m\u001b[1;33m\u001b[0m\u001b[0m\n\u001b[0m\u001b[0;32m   4116\u001b[0m             \u001b[1;32melse\u001b[0m\u001b[1;33m:\u001b[0m\u001b[1;33m\u001b[0m\u001b[1;33m\u001b[0m\u001b[0m\n\u001b[0;32m   4117\u001b[0m                 \u001b[0mindexer\u001b[0m \u001b[1;33m=\u001b[0m \u001b[0mnp\u001b[0m\u001b[1;33m.\u001b[0m\u001b[0marange\u001b[0m\u001b[1;33m(\u001b[0m\u001b[0mlen\u001b[0m\u001b[1;33m(\u001b[0m\u001b[0mself\u001b[0m\u001b[1;33m.\u001b[0m\u001b[0mitems\u001b[0m\u001b[1;33m)\u001b[0m\u001b[1;33m)\u001b[0m\u001b[1;33m[\u001b[0m\u001b[0misna\u001b[0m\u001b[1;33m(\u001b[0m\u001b[0mself\u001b[0m\u001b[1;33m.\u001b[0m\u001b[0mitems\u001b[0m\u001b[1;33m)\u001b[0m\u001b[1;33m]\u001b[0m\u001b[1;33m\u001b[0m\u001b[1;33m\u001b[0m\u001b[0m\n",
      "\u001b[1;32mc:\\users\\lokesh\\appdata\\local\\programs\\python\\python36\\lib\\site-packages\\pandas\\core\\indexes\\base.py\u001b[0m in \u001b[0;36mget_loc\u001b[1;34m(self, key, method, tolerance)\u001b[0m\n\u001b[0;32m   3078\u001b[0m                 \u001b[1;32mreturn\u001b[0m \u001b[0mself\u001b[0m\u001b[1;33m.\u001b[0m\u001b[0m_engine\u001b[0m\u001b[1;33m.\u001b[0m\u001b[0mget_loc\u001b[0m\u001b[1;33m(\u001b[0m\u001b[0mkey\u001b[0m\u001b[1;33m)\u001b[0m\u001b[1;33m\u001b[0m\u001b[1;33m\u001b[0m\u001b[0m\n\u001b[0;32m   3079\u001b[0m             \u001b[1;32mexcept\u001b[0m \u001b[0mKeyError\u001b[0m\u001b[1;33m:\u001b[0m\u001b[1;33m\u001b[0m\u001b[1;33m\u001b[0m\u001b[0m\n\u001b[1;32m-> 3080\u001b[1;33m                 \u001b[1;32mreturn\u001b[0m \u001b[0mself\u001b[0m\u001b[1;33m.\u001b[0m\u001b[0m_engine\u001b[0m\u001b[1;33m.\u001b[0m\u001b[0mget_loc\u001b[0m\u001b[1;33m(\u001b[0m\u001b[0mself\u001b[0m\u001b[1;33m.\u001b[0m\u001b[0m_maybe_cast_indexer\u001b[0m\u001b[1;33m(\u001b[0m\u001b[0mkey\u001b[0m\u001b[1;33m)\u001b[0m\u001b[1;33m)\u001b[0m\u001b[1;33m\u001b[0m\u001b[1;33m\u001b[0m\u001b[0m\n\u001b[0m\u001b[0;32m   3081\u001b[0m \u001b[1;33m\u001b[0m\u001b[0m\n\u001b[0;32m   3082\u001b[0m         \u001b[0mindexer\u001b[0m \u001b[1;33m=\u001b[0m \u001b[0mself\u001b[0m\u001b[1;33m.\u001b[0m\u001b[0mget_indexer\u001b[0m\u001b[1;33m(\u001b[0m\u001b[1;33m[\u001b[0m\u001b[0mkey\u001b[0m\u001b[1;33m]\u001b[0m\u001b[1;33m,\u001b[0m \u001b[0mmethod\u001b[0m\u001b[1;33m=\u001b[0m\u001b[0mmethod\u001b[0m\u001b[1;33m,\u001b[0m \u001b[0mtolerance\u001b[0m\u001b[1;33m=\u001b[0m\u001b[0mtolerance\u001b[0m\u001b[1;33m)\u001b[0m\u001b[1;33m\u001b[0m\u001b[1;33m\u001b[0m\u001b[0m\n",
      "\u001b[1;32mpandas\\_libs\\index.pyx\u001b[0m in \u001b[0;36mpandas._libs.index.IndexEngine.get_loc\u001b[1;34m()\u001b[0m\n",
      "\u001b[1;32mpandas\\_libs\\index.pyx\u001b[0m in \u001b[0;36mpandas._libs.index.IndexEngine.get_loc\u001b[1;34m()\u001b[0m\n",
      "\u001b[1;32mpandas\\_libs\\hashtable_class_helper.pxi\u001b[0m in \u001b[0;36mpandas._libs.hashtable.PyObjectHashTable.get_item\u001b[1;34m()\u001b[0m\n",
      "\u001b[1;32mpandas\\_libs\\hashtable_class_helper.pxi\u001b[0m in \u001b[0;36mpandas._libs.hashtable.PyObjectHashTable.get_item\u001b[1;34m()\u001b[0m\n",
      "\u001b[1;31mKeyError\u001b[0m: 'is_master'"
     ]
    }
   ],
   "source": [
    "lead[\"is_master\"]"
   ]
  },
  {
   "cell_type": "code",
   "execution_count": null,
   "metadata": {},
   "outputs": [],
   "source": []
  }
 ],
 "metadata": {
  "kernelspec": {
   "display_name": "Python 3",
   "language": "python",
   "name": "python3"
  },
  "language_info": {
   "codemirror_mode": {
    "name": "ipython",
    "version": 3
   },
   "file_extension": ".py",
   "mimetype": "text/x-python",
   "name": "python",
   "nbconvert_exporter": "python",
   "pygments_lexer": "ipython3",
   "version": "3.6.7"
  }
 },
 "nbformat": 4,
 "nbformat_minor": 2
}
